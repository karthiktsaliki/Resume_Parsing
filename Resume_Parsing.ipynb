{
 "cells": [
  {
   "cell_type": "code",
   "execution_count": 48,
   "metadata": {},
   "outputs": [
    {
     "name": "stdout",
     "output_type": "stream",
     "text": [
      "Hello World\n"
     ]
    }
   ],
   "source": [
    "## *Hello World\n",
    "print(\"Hello World\")"
   ]
  },
  {
   "cell_type": "code",
   "execution_count": 3,
   "metadata": {
    "collapsed": true
   },
   "outputs": [],
   "source": [
    "class Abc:\n",
    "    def run(self,s):\n",
    "        print(\"hello\")\n",
    "    def __init__(self,s):\n",
    "        print(s)\n",
    "        self.run(s)"
   ]
  },
  {
   "cell_type": "code",
   "execution_count": 4,
   "metadata": {
    "scrolled": true
   },
   "outputs": [
    {
     "name": "stdout",
     "output_type": "stream",
     "text": [
      "hi\n",
      "hello\n"
     ]
    },
    {
     "data": {
      "text/plain": [
       "<__main__.Abc at 0x10cecd208>"
      ]
     },
     "execution_count": 4,
     "metadata": {},
     "output_type": "execute_result"
    }
   ],
   "source": [
    "Abc(\"hi\")"
   ]
  },
  {
   "cell_type": "code",
   "execution_count": 3,
   "metadata": {},
   "outputs": [
    {
     "data": {
      "text/plain": [
       "<module 'posixpath' from '/anaconda/lib/python3.6/posixpath.py'>"
      ]
     },
     "execution_count": 3,
     "metadata": {},
     "output_type": "execute_result"
    }
   ],
   "source": [
    "import os\n",
    "os.path"
   ]
  },
  {
   "cell_type": "code",
   "execution_count": 42,
   "metadata": {},
   "outputs": [
    {
     "name": "stdout",
     "output_type": "stream",
     "text": [
      "\n",
      "\n",
      "\n",
      "\n",
      "\n",
      "\n",
      "\n",
      "\n",
      "\n",
      "\n",
      "\n",
      "\n",
      "\n",
      "\n",
      "\n",
      "\n",
      "\n",
      "\n",
      "\n",
      "\n",
      "\n",
      "\n",
      "\n",
      "\n",
      "\n",
      "\n",
      "\n",
      "\n",
      "\n",
      "\n",
      "\n",
      "\n",
      "\n",
      "\n",
      "\n",
      "\n",
      "\n",
      "\n",
      "\n",
      "\n",
      "\n",
      "\n",
      "\n",
      "\n",
      "\n",
      "\n",
      "\n",
      "\n",
      "\n",
      "RESUME\n",
      "\n",
      "RESUME\n",
      "\n",
      "Kavya Tsaliki                    \n",
      " \t\t\t\t\t\t\ttsalikikavya@gmail.com\n",
      "H.NO:5-4-107&108, Plotno:503                  Mobile No : 8885832376             \n",
      "Kukatpally,\t\n",
      "Hyderabad.\t                                         \n",
      "\t\t\n",
      "Career Objective:\n",
      "                 \n",
      "To work for an ever-growing company which enables me to enrich my knowledge in the field of computer science engineering.  \n",
      "             \n",
      "Academic Profile:\n",
      "\n",
      "\t\n",
      "Education Level\n",
      "\t\n",
      "       Institute\n",
      "\t\n",
      "  Year of \n",
      "  passing\n",
      "\tPercentage\n",
      "\n",
      "\t\n",
      "B. Tech. (Computer science Engineering)\n",
      "\t\n",
      "VNR vignana jyothi institute of engineering and technology\n",
      "\tPursuing\n",
      "\t80.2\n",
      "(till 3-1)\n",
      "\n",
      "\t\n",
      "Intermediate (M.P.C)\n",
      "\t\n",
      "Sri Chaitanya Junior College\n",
      "\t2012\n",
      "\t\n",
      "82.8\n",
      "\n",
      "\t\n",
      "S.S.C\n",
      "\t\n",
      "Narayana Concept School\n",
      "\n",
      "\t2010\n",
      "\t\n",
      "91\n",
      "\n",
      "\n",
      "\n",
      "\n",
      " Technical Skills:\n",
      "\n",
      "· C, C++, Java , SQL\n",
      "Projects:\n",
      "\n",
      "· I am Team Member of project -Weapon Locking and Tracking System.\n",
      "This project is useful for authorizing a weapon using RFID Mechanism. To prevent the access of a weapon from other persons by LOCKING the Gun.\n",
      "TRACKING: If unauthorized person tries to steal the Gun, then GPS module in the Gun, sends the gun coordinates to the server, we can view position of gun using Google maps in the server. Server also sends the coordinates to monitoring unit ( Person with Android phone) which is helpful in tracking the gun and returning it back.\n",
      "\n",
      "Industrial visits:\n",
      "· Visited Keerthi cement industries, got to know how software is applied to industries, that leads to the best outcome. This visit gave an outlook on how several streams of engineering are interconnected to achieve best results in an industry\n",
      "· Visited CMC and INCOIS as a part of academics.\n",
      "\n",
      "Declaration:\n",
      " \n",
      "I hereby declare that all the above mentioned is correct according to                                   my knowledge.  \n",
      "\n",
      "\n",
      "\n",
      "\n",
      "\n",
      "\n",
      "\n",
      "\n",
      "\n",
      "\t \n",
      "\t\n",
      "\n",
      "\n",
      "\n",
      "\n",
      "                                                                     \t\t\n",
      "\n",
      "<_sre.SRE_Match object; span=(107, 129), match='tsalikikavya@gmail.com'>\n"
     ]
    }
   ],
   "source": [
    "import tika\n",
    "from tika import parser\n",
    "import re\n",
    "class ResumeParsing:\n",
    "    def parseAnyFile():\n",
    "        tika.initVM()\n",
    "        parsed = parser.from_file(\"MyResume.docx\")\n",
    "        print(parsed[\"content\"])\n",
    "        regular_expression = re.compile(r\"[A-Z0-9._%+-]+@[A-Z0-9.-]+\\.[A-Z]{2,4}\", re.IGNORECASE)\n",
    "        result = re.search(regular_expression,parsed[\"content\"])\n",
    "        print(result)\n",
    "    if __name__==\"__main__\":\n",
    "        parseAnyFile()"
   ]
  },
  {
   "cell_type": "code",
   "execution_count": 41,
   "metadata": {},
   "outputs": [
    {
     "data": {
      "text/plain": [
       "<__main__.Regex at 0x1032be550>"
      ]
     },
     "execution_count": 41,
     "metadata": {},
     "output_type": "execute_result"
    }
   ],
   "source": [
    "Regex()"
   ]
  },
  {
   "cell_type": "code",
   "execution_count": 16,
   "metadata": {},
   "outputs": [
    {
     "name": "stdout",
     "output_type": "stream",
     "text": [
      "[  0.   0.   0.  30.  50.   0.   0.   0.   0.   0.]\n",
      "(1, 10)\n",
      "(10, 1)\n",
      "[[ 80.]]\n"
     ]
    }
   ],
   "source": [
    "import numpy as np\n",
    "a=np.zeros(10)\n",
    "b=np.zeros(10)\n",
    "a[4]=10\n",
    "b[3]=5\n",
    "a[3]=6\n",
    "b[4]=5\n",
    "c=a*b\n",
    "print(c)\n",
    "b=b[:,None]\n",
    "a=a[:,None]\n",
    "a=a.reshape(1,10)\n",
    "print(a.shape)\n",
    "print(b.shape)\n",
    "d=np.dot(a,b)\n",
    "print(d)\n"
   ]
  }
 ],
 "metadata": {
  "kernelspec": {
   "display_name": "Python 3",
   "language": "python",
   "name": "python3"
  },
  "language_info": {
   "codemirror_mode": {
    "name": "ipython",
    "version": 3
   },
   "file_extension": ".py",
   "mimetype": "text/x-python",
   "name": "python",
   "nbconvert_exporter": "python",
   "pygments_lexer": "ipython3",
   "version": "3.6.2"
  }
 },
 "nbformat": 4,
 "nbformat_minor": 2
}
